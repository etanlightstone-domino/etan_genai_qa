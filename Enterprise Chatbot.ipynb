{
 "cells": [
  {
   "cell_type": "markdown",
   "id": "b270fb1e-b6e8-4c98-92d8-c4efedf1e3d4",
   "metadata": {},
   "source": [
    "## Enterprise Q&A Chatbot template\n",
    "This sample demonstrates how to create ChatGPT-like experiences over your own data using the Retrieval Augmented Generation pattern.\n",
    "\n",
    "The template includes sample data so it's ready to try end to end. In this sample application we use a fictitious company, and the experience allows its employees to ask questions about the benefits, internal policies, as well as job descriptions and roles."
   ]
  },
  {
   "cell_type": "markdown",
   "id": "9fc9976f-d7c7-4da5-8082-4a1e419d2245",
   "metadata": {},
   "source": [
    "![](./flow_bot.png)"
   ]
  },
  {
   "cell_type": "markdown",
   "id": "fc252e30-0521-4a33-9d86-6a588b40dbe6",
   "metadata": {},
   "source": [
    "## Import open source dependencies (LangChain, FAISS)"
   ]
  },
  {
   "cell_type": "code",
   "execution_count": 1,
   "id": "581443cd-3bf2-492c-9d44-652c4090e634",
   "metadata": {
    "tags": []
   },
   "outputs": [],
   "source": [
    "from langchain.document_loaders import DirectoryLoader\n",
    "from langchain.text_splitter import RecursiveCharacterTextSplitter\n",
    "from langchain.chains import ConversationalRetrievalChain\n",
    "from langchain.chat_models import ChatOpenAI\n",
    "from langchain.llms import OpenAI\n",
    "from langchain.memory import ConversationBufferMemory\n",
    "\n",
    "from utils import get_apikey, get_embeddings, get_vectorstore, create_or_get_vectorstore, get_chat_history, get_prompt_context, chat\n",
    "API_Key= get_apikey()\n",
    "embeddings = get_embeddings(API_Key)"
   ]
  },
  {
   "cell_type": "markdown",
   "id": "53d3d8a5-4a7b-439f-a257-c22423551a24",
   "metadata": {},
   "source": [
    "## Input parameters for DataSet and Vector Store"
   ]
  },
  {
   "cell_type": "code",
   "execution_count": 2,
   "id": "c7619283-64fc-418a-9d11-ec4aa5200539",
   "metadata": {
    "tags": []
   },
   "outputs": [],
   "source": [
    "datasetpath = \"/mnt/data/healthcareplandetails\"\n",
    "store_name = \"policy_document_store\""
   ]
  },
  {
   "cell_type": "markdown",
   "id": "e7b6060d-bf95-43e0-bdde-1df37ce68aaf",
   "metadata": {},
   "source": [
    "## Input parameters for Responsible AI Safety to prevent harms/hallucinations"
   ]
  },
  {
   "cell_type": "code",
   "execution_count": 3,
   "id": "6836849e-ea8a-46c7-98d3-8ac136007923",
   "metadata": {
    "tags": []
   },
   "outputs": [],
   "source": [
    "background = \"\"\"You are an AI assistant for answering questions about information in \n",
    "                employee benefits and health care policy documentation\"\"\"\n",
    "\n",
    "safety = \"\"\"If the question is not about health care policy coverage or employee benefits, \n",
    "        politely inform them that you are tuned to only answer questions about health care policy coverage or employeee benefits\"\"\""
   ]
  },
  {
   "cell_type": "markdown",
   "id": "b57c6a30-8ae1-4c0b-b02c-a306c7ca8f4d",
   "metadata": {},
   "source": [
    "## Initialize Vector Store with Embeddings from Enterprise Data (eg PDFs and more)"
   ]
  },
  {
   "cell_type": "code",
   "execution_count": 4,
   "id": "60382de7-437f-4521-9a6a-5c0af2daa292",
   "metadata": {
    "jupyter": {
     "source_hidden": true
    },
    "tags": []
   },
   "outputs": [],
   "source": [
    "# get store if exists\n",
    "vectorstore=get_vectorstore(store_name)\n",
    "\n",
    "if not vectorstore:\n",
    "    #load all the PDFs and extract the text\n",
    "    loader = DirectoryLoader(datasetpath)\n",
    "    data = loader.load()\n",
    "    \n",
    "    # Chunk your data up into smaller documents\n",
    "    text_splitter = RecursiveCharacterTextSplitter(chunk_size=1000, chunk_overlap=0)\n",
    "    texts = text_splitter.split_documents(data)\n",
    "    \n",
    "    #Create embeddings of your documents to get ready for semantic search\n",
    "    vectorstore = create_or_get_vectorstore(store_name, texts, embeddings)\n",
    "    \n"
   ]
  },
  {
   "cell_type": "markdown",
   "id": "4521bc47-6ef0-4395-9f69-98fa7d53c45c",
   "metadata": {},
   "source": [
    "## Initialize Chat with LangChain, LLM & Vector Store to enrich results "
   ]
  },
  {
   "cell_type": "code",
   "execution_count": 5,
   "id": "00d65fe9-ea67-4038-b826-b3bc169c09e1",
   "metadata": {
    "jupyter": {
     "source_hidden": true
    },
    "tags": []
   },
   "outputs": [],
   "source": [
    "QA_PROMPT, CONDENSE_QUESTION_PROMPT = get_prompt_context(background, safety)\n",
    "\n",
    "memory = ConversationBufferMemory(memory_key=\"chat_history\", return_messages=True)\n",
    "retrievalchain = ConversationalRetrievalChain.from_llm(OpenAI(temperature=0), vectorstore.as_retriever(), memory=memory, qa_prompt=QA_PROMPT,\n",
    "                                                     condense_question_prompt=CONDENSE_QUESTION_PROMPT, get_chat_history=get_chat_history)"
   ]
  },
  {
   "cell_type": "code",
   "execution_count": null,
   "id": "dbb8a145-1764-4c33-ad42-1fc813692d1f",
   "metadata": {
    "jupyter": {
     "source_hidden": true
    },
    "tags": []
   },
   "outputs": [
    {
     "name": "stdout",
     "output_type": "stream",
     "text": [
      "Human:\n"
     ]
    },
    {
     "name": "stdin",
     "output_type": "stream",
     "text": [
      " Does my policy cover annual hearing exams?\n"
     ]
    },
    {
     "name": "stdout",
     "output_type": "stream",
     "text": [
      "AI:\n",
      "\n",
      "Yes, your policy does cover annual hearing exams. The Northwind Standard plan covers all types of hearing care services, including hearing tests, hearing aids and hearing aid accessories, as well as cochlear implants and bone-anchored hearing aids. Additionally, the plan covers routine aid maintenance and repair, as well as counseling and hearing aid evaluations. The plan also covers up to $1,500 every year for all hearing aid services, including the hearing aid itself.\n",
      "Human:\n"
     ]
    },
    {
     "name": "stdin",
     "output_type": "stream",
     "text": [
      " What about vision?\n"
     ]
    },
    {
     "name": "stdout",
     "output_type": "stream",
     "text": [
      "AI:\n",
      "\n",
      "\n",
      "Yes, the Northwind Standard plan does cover vision services. The plan provides coverage for medical, vision, and dental services, as well as preventive care services and prescription drug coverage. However, it is important to note that the plan does not cover any services related to emergency care, mental health and substance abuse coverage, or out-of-network services. For more information, please refer to the plan documents.\n",
      "Human:\n"
     ]
    }
   ],
   "source": [
    "chat(memory, retrievalchain)"
   ]
  },
  {
   "cell_type": "code",
   "execution_count": null,
   "id": "e39acd78-895a-4520-a39c-5a1f2218139b",
   "metadata": {
    "jupyter": {
     "source_hidden": true
    }
   },
   "outputs": [],
   "source": []
  }
 ],
 "metadata": {
  "kernelspec": {
   "display_name": "Python 3 (ipykernel)",
   "language": "python",
   "name": "python3"
  },
  "language_info": {
   "codemirror_mode": {
    "name": "ipython",
    "version": 3
   },
   "file_extension": ".py",
   "mimetype": "text/x-python",
   "name": "python",
   "nbconvert_exporter": "python",
   "pygments_lexer": "ipython3",
   "version": "3.9.16"
  }
 },
 "nbformat": 4,
 "nbformat_minor": 5
}
