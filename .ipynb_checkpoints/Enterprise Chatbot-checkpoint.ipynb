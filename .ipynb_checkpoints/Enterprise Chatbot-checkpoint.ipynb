{
 "cells": [
  {
   "cell_type": "markdown",
   "id": "fc252e30-0521-4a33-9d86-6a588b40dbe6",
   "metadata": {},
   "source": [
    "## Load Langchain"
   ]
  },
  {
   "cell_type": "code",
   "execution_count": 1,
   "id": "581443cd-3bf2-492c-9d44-652c4090e634",
   "metadata": {
    "tags": []
   },
   "outputs": [],
   "source": [
    "from langchain.document_loaders import DirectoryLoader\n",
    "from langchain.text_splitter import RecursiveCharacterTextSplitter\n",
    "from langchain.chains import ConversationalRetrievalChain\n",
    "from langchain.chat_models import ChatOpenAI\n",
    "from langchain.llms import OpenAI\n",
    "from langchain.memory import ConversationBufferMemory\n",
    "\n",
    "from utils import get_apikey, get_embeddings, get_store, create_or_get_store, get_chat_history, get_prompt_context, chat"
   ]
  },
  {
   "cell_type": "markdown",
   "id": "53d3d8a5-4a7b-439f-a257-c22423551a24",
   "metadata": {},
   "source": [
    "## Convert PDF files in Domino Dataset to embeddings for semantic search"
   ]
  },
  {
   "cell_type": "code",
   "execution_count": 2,
   "id": "c7619283-64fc-418a-9d11-ec4aa5200539",
   "metadata": {
    "tags": []
   },
   "outputs": [],
   "source": [
    "datasetpath = \"/mnt/data/healthcareplandetails\"\n",
    "store_name = \"policy_document_store\"\n",
    "\n",
    "background = \"You are an AI assistant for answering questions about information in employee benefits and health care policy documentation\"\n",
    "safety = \"If the question is not about health care policy coverage or employee benefits, politely inform them that you are tuned to only answer questions about health care policy coverage or employeee benefits\"\n",
    "\n",
    "store=get_vectorstore(store_name)\n",
    "\n",
    "API_Key= get_apikey()\n",
    "embeddings = get_embeddings(API_Key)\n",
    "QA_PROMPT, CONDENSE_QUESTION_PROMPT = get_prompt_context(background, safety)"
   ]
  },
  {
   "cell_type": "code",
   "execution_count": 4,
   "id": "60382de7-437f-4521-9a6a-5c0af2daa292",
   "metadata": {
    "tags": []
   },
   "outputs": [],
   "source": [
    "if not store:\n",
    "    #load all the PDFs and extract the text\n",
    "    loader = DirectoryLoader(datasetpath)\n",
    "    data = loader.load()\n",
    "    \n",
    "    # Chunk your data up into smaller documents\n",
    "    text_splitter = RecursiveCharacterTextSplitter(chunk_size=1000, chunk_overlap=0)\n",
    "    texts = text_splitter.split_documents(data)\n",
    "    \n",
    "    #Create embeddings of your documents to get ready for semantic search\n",
    "    store = create_or_get_vectorstore(store_name, texts, embeddings)\n",
    "    \n",
    "    print(texts[1:2])"
   ]
  },
  {
   "cell_type": "code",
   "execution_count": 5,
   "id": "00d65fe9-ea67-4038-b826-b3bc169c09e1",
   "metadata": {
    "tags": []
   },
   "outputs": [],
   "source": [
    "memory = ConversationBufferMemory(memory_key=\"chat_history\", return_messages=True)\n",
    "retrievalchain = ConversationalRetrievalChain.from_llm(OpenAI(temperature=0), store.as_retriever(), memory=memory, qa_prompt=QA_PROMPT,\n",
    "                                                     condense_question_prompt=CONDENSE_QUESTION_PROMPT, get_chat_history=get_chat_history)"
   ]
  },
  {
   "cell_type": "code",
   "execution_count": null,
   "id": "dbb8a145-1764-4c33-ad42-1fc813692d1f",
   "metadata": {
    "tags": []
   },
   "outputs": [
    {
     "name": "stdout",
     "output_type": "stream",
     "text": [
      "Human:\n"
     ]
    },
    {
     "name": "stdin",
     "output_type": "stream",
     "text": [
      " does my policy cover annual exams?\n"
     ]
    },
    {
     "name": "stdout",
     "output_type": "stream",
     "text": [
      "AI:\n",
      "\n",
      "\n",
      "Yes, your policy does cover annual exams. The Northwind Standard plan covers preventive care services, such as immunizations and annual physicals, at 100% with no deductible. Additionally, you can take advantage of the preventive care services that are covered under the Northwind Standard plan, such as annual check-ups and cleanings. If you have any questions about the coverage offered under the Northwind Standard plan, you can contact Northwind Health Customer Service for more information.\n",
      "Human:\n"
     ]
    },
    {
     "name": "stdin",
     "output_type": "stream",
     "text": [
      " what about vision?\n"
     ]
    },
    {
     "name": "stdout",
     "output_type": "stream",
     "text": [
      "AI:\n",
      "\n",
      "\n",
      "Yes, the Northwind Standard plan does cover vision services. The plan documents state that the Northwind Standard plan provides coverage for medical, vision, and dental services. This coverage includes preventive care services and prescription drug coverage.\n",
      "Human:\n"
     ]
    },
    {
     "name": "stdin",
     "output_type": "stream",
     "text": [
      " what about hearing exams?\n"
     ]
    },
    {
     "name": "stdout",
     "output_type": "stream",
     "text": [
      "AI:\n",
      "\n",
      "\n",
      "Yes, the Northwind Standard plan does cover hearing exams. It covers all types of hearing care services, including hearing tests, hearing aids and hearing aid accessories, as well as cochlear implants and bone-anchored hearing aids. However, it does not cover hearing care services provided by out-of-network providers. If you have any questions about your coverage, you can contact Northwind Health directly.\n",
      "Human:\n"
     ]
    }
   ],
   "source": [
    "chat(memory, retrievalchain)"
   ]
  },
  {
   "cell_type": "code",
   "execution_count": null,
   "id": "9e95508b-aef8-4629-bba9-ef303284baea",
   "metadata": {},
   "outputs": [],
   "source": []
  }
 ],
 "metadata": {
  "kernelspec": {
   "display_name": "Python 3 (ipykernel)",
   "language": "python",
   "name": "python3"
  },
  "language_info": {
   "codemirror_mode": {
    "name": "ipython",
    "version": 3
   },
   "file_extension": ".py",
   "mimetype": "text/x-python",
   "name": "python",
   "nbconvert_exporter": "python",
   "pygments_lexer": "ipython3",
   "version": "3.9.16"
  }
 },
 "nbformat": 4,
 "nbformat_minor": 5
}
